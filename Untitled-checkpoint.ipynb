{
 "cells": [
  {
   "cell_type": "code",
   "execution_count": 1,
   "id": "5f8bbb65-becb-4579-8b7c-fd0204f50a47",
   "metadata": {},
   "outputs": [],
   "source": [
    "import pandas as pd\n",
    "import numpy as np\n",
    "from scipy.stats import norm\n",
    "from scipy.stats import ttest_ind, f_oneway\n",
    "from scipy.stats import skew\n",
    "from scipy.stats import variation\n",
    "import matplotlib.pyplot as plt"
   ]
  },
  {
   "cell_type": "code",
   "execution_count": 17,
   "id": "6b49cc64-7941-47c9-b757-e1a8456d2a52",
   "metadata": {},
   "outputs": [
    {
     "name": "stdout",
     "output_type": "stream",
     "text": [
      "Введите эмпирические координаты кривой (Ваш ряд расходов воды в м3/с):\n"
     ]
    },
    {
     "name": "stdin",
     "output_type": "stream",
     "text": [
      "Вставьте значения ЭМПИРИЧЕСКИХ расходов воды с новой строки (для завершения введите пустую строку):\n",
      " 245 255 305 280 231 326 298 356 368 582 474 270 226 275 735 313 293 340 263 425 220 199 208 279 288 371 168 345 264 334 324 311 450 319 317 300 213 263 920 217 366 183 459 228 173 242 227 850 164 252 294 290 541 308 458 379 877 137 251 369 179 326\n"
     ]
    },
    {
     "name": "stdout",
     "output_type": "stream",
     "text": [
      "Расходы воды: [920. 877. 850. 735. 582. 541. 474. 459. 458. 450. 425. 379. 371. 369.\n",
      " 368. 366. 356. 345. 340. 334. 326. 326. 324. 319. 317. 313. 311. 308.\n",
      " 305. 300. 298. 294. 293. 290. 288. 280. 279. 275. 270. 264. 263. 263.\n",
      " 255. 252. 251. 245. 242. 231. 228. 227. 226. 220. 217. 213. 208. 199.\n",
      " 183. 179. 173. 168. 164. 137.]\n"
     ]
    }
   ],
   "source": [
    "print('Введите эмпирические координаты кривой (Ваш ряд расходов воды в м3/с):')\n",
    "\n",
    "def input_water_empiric_expenses():\n",
    "    # Ввод расходов воды от пользователя\n",
    "    values_str = input(\"Вставьте значения ЭМПИРИЧЕСКИХ расходов воды с новой строки (для завершения введите пустую строку):\\n\")\n",
    "    \n",
    "    # Разделение строк и преобразование в массив NumPy\n",
    "    water_expenses = np.fromstring(values_str, sep='\\n', dtype=float)\n",
    "\n",
    "    # Сортировка (ранжирование ряда) по убыванию\n",
    "    sorted_expenses = np.sort(water_expenses)[::-1]\n",
    "\n",
    "    return sorted_expenses\n",
    "\n",
    "\n",
    "empiric_array = input_water_empiric_expenses()\n",
    "\n",
    "\n",
    "print(\"Расходы воды:\", empiric_array)\n",
    "\n",
    "\n"
   ]
  },
  {
   "cell_type": "code",
   "execution_count": 18,
   "id": "40531541-3510-4721-8f66-d0b33e9231c2",
   "metadata": {},
   "outputs": [
    {
     "data": {
      "text/plain": [
       "(62,)"
      ]
     },
     "execution_count": 18,
     "metadata": {},
     "output_type": "execute_result"
    }
   ],
   "source": [
    "empiric_array.shape"
   ]
  },
  {
   "cell_type": "code",
   "execution_count": 19,
   "id": "6e62bad5-b370-4c8a-b8b1-2f76a34ee5cc",
   "metadata": {},
   "outputs": [
    {
     "name": "stdout",
     "output_type": "stream",
     "text": [
      "Введите аналитические координаты кривой () ряд расходов воды в м3/с:\n"
     ]
    },
    {
     "name": "stdin",
     "output_type": "stream",
     "text": [
      "Вставьте значения АНАЛИТИЧЕСКИХ расходов воды с новой строки (для завершения введите пустую строку):\n",
      " 1926 1358 1129 1029 904 720 642 538 437 404 377 333 298 267 237 223 207 173 150 136 115 105 98.3 86.9\n"
     ]
    }
   ],
   "source": [
    "print('Введите аналитические координаты кривой () ряд расходов воды в м3/с:')\n",
    "\n",
    "\n",
    "def input_water_analytic_expenses():\n",
    "    # Ввод расходов воды от пользователя\n",
    "    values_str = input(\"Вставьте значения АНАЛИТИЧЕСКИХ расходов воды с новой строки (для завершения введите пустую строку):\\n\")\n",
    "    \n",
    "    # Разделение строк и преобразование в массив NumPy\n",
    "    water_expenses = np.fromstring(values_str, sep='\\n', dtype=float)\n",
    "\n",
    "    return water_expenses\n",
    "\n",
    "\n",
    "analtic_array = input_water_analytic_expenses()"
   ]
  },
  {
   "cell_type": "code",
   "execution_count": 20,
   "id": "f86376c5-a4b9-4698-88c1-25ab3f80a717",
   "metadata": {},
   "outputs": [
    {
     "data": {
      "text/plain": [
       "array([1926. , 1358. , 1129. , 1029. ,  904. ,  720. ,  642. ,  538. ,\n",
       "        437. ,  404. ,  377. ,  333. ,  298. ,  267. ,  237. ,  223. ,\n",
       "        207. ,  173. ,  150. ,  136. ,  115. ,  105. ,   98.3,   86.9])"
      ]
     },
     "execution_count": 20,
     "metadata": {},
     "output_type": "execute_result"
    }
   ],
   "source": [
    "analtic_array"
   ]
  },
  {
   "cell_type": "code",
   "execution_count": null,
   "id": "96d6e1b2-2b96-4a6c-81a2-5dba23524de0",
   "metadata": {},
   "outputs": [],
   "source": []
  },
  {
   "cell_type": "code",
   "execution_count": null,
   "id": "e65abed3-2fa1-4b6d-8bf1-6863283953f0",
   "metadata": {},
   "outputs": [],
   "source": []
  },
  {
   "cell_type": "code",
   "execution_count": 67,
   "id": "7bc56767-1a31-476d-ab91-88965e8ad769",
   "metadata": {},
   "outputs": [
    {
     "data": {
      "text/plain": [
       "array([ 1,  2,  3,  4,  5,  6,  7,  8,  9, 10, 11, 12, 13, 14, 15, 16, 17,\n",
       "       18, 19, 20, 21, 22, 23, 24, 25, 26, 27, 28, 29, 30, 31, 32, 33, 34,\n",
       "       35, 36, 37, 38, 39, 40, 41, 42, 43, 44, 45, 46, 47, 48, 49, 50, 51,\n",
       "       52, 53, 54, 55, 56, 57, 58, 59, 60, 61, 62])"
      ]
     },
     "execution_count": 67,
     "metadata": {},
     "output_type": "execute_result"
    }
   ],
   "source": [
    "a = np.arange(1,len(empiric_array)+1)\n",
    "a"
   ]
  },
  {
   "cell_type": "code",
   "execution_count": 64,
   "id": "815c175b-6187-44cd-a529-4b0f1cca9384",
   "metadata": {},
   "outputs": [
    {
     "data": {
      "text/plain": [
       "array([ 1,  2,  3,  4,  5,  6,  7,  8,  9, 10, 11, 12, 13, 14, 15, 16, 17,\n",
       "       18, 19, 20, 21, 22, 23, 24, 25, 26, 27, 28, 29, 30, 31, 32, 33, 34,\n",
       "       35, 36, 37, 38, 39, 40, 41, 42, 43, 44, 45, 46, 47, 48, 49, 50, 51,\n",
       "       52, 53, 54, 55, 56, 57, 58, 59, 60, 61, 62])"
      ]
     },
     "execution_count": 64,
     "metadata": {},
     "output_type": "execute_result"
    }
   ],
   "source": [
    "emp_coord"
   ]
  },
  {
   "cell_type": "code",
   "execution_count": 46,
   "id": "28d5a0b1-f3b3-493b-924d-265e809e61b2",
   "metadata": {},
   "outputs": [],
   "source": [
    "emp_coord_to_1 = emp_coord / (len(empiric_array) +1)\n"
   ]
  },
  {
   "cell_type": "code",
   "execution_count": 47,
   "id": "720f8ce2-5e0e-47c0-a165-fb71e7686c61",
   "metadata": {},
   "outputs": [
    {
     "data": {
      "text/plain": [
       "array([0.01587302, 0.03174603, 0.04761905, 0.06349206, 0.07936508,\n",
       "       0.0952381 , 0.11111111, 0.12698413, 0.14285714, 0.15873016,\n",
       "       0.17460317, 0.19047619, 0.20634921, 0.22222222, 0.23809524,\n",
       "       0.25396825, 0.26984127, 0.28571429, 0.3015873 , 0.31746032,\n",
       "       0.33333333, 0.34920635, 0.36507937, 0.38095238, 0.3968254 ,\n",
       "       0.41269841, 0.42857143, 0.44444444, 0.46031746, 0.47619048,\n",
       "       0.49206349, 0.50793651, 0.52380952, 0.53968254, 0.55555556,\n",
       "       0.57142857, 0.58730159, 0.6031746 , 0.61904762, 0.63492063,\n",
       "       0.65079365, 0.66666667, 0.68253968, 0.6984127 , 0.71428571,\n",
       "       0.73015873, 0.74603175, 0.76190476, 0.77777778, 0.79365079,\n",
       "       0.80952381, 0.82539683, 0.84126984, 0.85714286, 0.87301587,\n",
       "       0.88888889, 0.9047619 , 0.92063492, 0.93650794, 0.95238095,\n",
       "       0.96825397, 0.98412698])"
      ]
     },
     "execution_count": 47,
     "metadata": {},
     "output_type": "execute_result"
    }
   ],
   "source": [
    "emp_coord_to_1"
   ]
  },
  {
   "cell_type": "code",
   "execution_count": 49,
   "id": "18c68cb1-e1fb-4776-b429-d11ebb567bef",
   "metadata": {},
   "outputs": [
    {
     "data": {
      "text/plain": [
       "array([-2.14759388, -1.85572992, -1.66839119, -1.52610335, -1.40935522,\n",
       "       -1.30917172, -1.22064035, -1.14076374, -1.06757052, -0.99969049,\n",
       "       -0.93612982, -0.87614285, -0.81915425, -0.76470967, -0.71244303,\n",
       "       -0.66205417, -0.61329312, -0.56594882, -0.51984071, -0.47481248,\n",
       "       -0.4307273 , -0.38746404, -0.34491439, -0.30298045, -0.26157283,\n",
       "       -0.22060909, -0.18001237, -0.1397103 , -0.09963397, -0.0597171 ,\n",
       "       -0.01989519,  0.01989519,  0.0597171 ,  0.09963397,  0.1397103 ,\n",
       "        0.18001237,  0.22060909,  0.26157283,  0.30298045,  0.34491439,\n",
       "        0.38746404,  0.4307273 ,  0.47481248,  0.51984071,  0.56594882,\n",
       "        0.61329312,  0.66205417,  0.71244303,  0.76470967,  0.81915425,\n",
       "        0.87614285,  0.93612982,  0.99969049,  1.06757052,  1.14076374,\n",
       "        1.22064035,  1.30917172,  1.40935522,  1.52610335,  1.66839119,\n",
       "        1.85572992,  2.14759388])"
      ]
     },
     "execution_count": 49,
     "metadata": {},
     "output_type": "execute_result"
    }
   ],
   "source": [
    "# Задайте среднее и стандартное отклонение\n",
    "mean = 0  # Среднее значение\n",
    "std_dev = 1  # Стандартное отклонение\n",
    "x_empiric = norm.ppf(emp_coord_to_1, loc=mean, scale=std_dev)\n",
    "x_empiric"
   ]
  },
  {
   "cell_type": "code",
   "execution_count": null,
   "id": "ef2adc09-4040-4c1e-959f-fd41d15d2cae",
   "metadata": {},
   "outputs": [],
   "source": []
  },
  {
   "cell_type": "code",
   "execution_count": null,
   "id": "932937b4-1687-465d-b14c-4fe5b725f47f",
   "metadata": {},
   "outputs": [],
   "source": []
  },
  {
   "cell_type": "code",
   "execution_count": null,
   "id": "45761d06-e2ba-4a89-84be-93395a61b76f",
   "metadata": {},
   "outputs": [],
   "source": []
  },
  {
   "cell_type": "code",
   "execution_count": null,
   "id": "ac50e1af-7759-4ec0-a745-4016e228c698",
   "metadata": {},
   "outputs": [],
   "source": []
  },
  {
   "cell_type": "code",
   "execution_count": null,
   "id": "c5d3fa00-352b-4c02-9024-a1035134a760",
   "metadata": {},
   "outputs": [],
   "source": []
  },
  {
   "cell_type": "code",
   "execution_count": 63,
   "id": "d28632fb-c99a-4f66-b2b4-21b31e8484e5",
   "metadata": {},
   "outputs": [
    {
     "data": {
      "image/png": "[encoded data removed]",
      "text/plain": [
       "<Figure size 1000x600 with 1 Axes>"
      ]
     },
     "metadata": {},
     "output_type": "display_data"
    }
   ],
   "source": [
    "# РИСУЕМ КРИВУЮ ОБЕСПЕЧЕННОСТЕЙ КРИЦКОГО-МЕНКЕЛЯ:\n",
    "x_coord = [-3.719016485, -3.090232306, -2.747781385, -2.575829304, -2.326347874, -1.880793608, -1.644853627, -1.281551566, -0.841621234, -0.67448975, -0.524400513, -0.253347103, 0, 0.253347103, 0.524400513, 0.67448975, 0.841621234, 1.281551566, 1.644853627, 1.880793608, 2.326347874, 2.575829304, 2.747781385, 3.090232306]\n",
    "y_coord = analtic_array\n",
    "\n",
    "xticks_combined = [0.01, 0.1, 0.3, 0.5, 1, 3, 5, 10, 20, 25, 30, 40, 50, 60, 70, 75, 80, 90, 95, 97, 99, 99.5, 99.7, 99.9]\n",
    "\n",
    "plt.figure(figsize=(10, 6))\n",
    "plt.plot(x_coord, y_coord, label=\"Крицкий-Менкель\", c='red', linewidth=0.8)\n",
    "plt.scatter(x_empiric,empiric_array, label=\"Эмпирическая\",s=8,c='black')\n",
    "\n",
    "plt.xlabel(\"Обеспеченность, Р%\")\n",
    "plt.ylabel(\"Расход воды, м^3/с\")\n",
    "plt.title(\"Кривая обеспеченностей\")\n",
    "\n",
    "plt.xticks(x_coord, xticks_combined, rotation=90)\n",
    "\n",
    "y_tick_interval = 1  # Установить нужный интервал !!!\n",
    "min_value_y = 0\n",
    "max_value_y = max(y_coord)\n",
    "ytick_positions = list(range(int(min_value_y), int(max_value_y) + 2, y_tick_interval))\n",
    "#plt.yticks(ytick_positions)\n",
    "\n",
    "plt.legend()\n",
    "plt.grid()\n",
    "plt.show()"
   ]
  },
  {
   "cell_type": "code",
   "execution_count": null,
   "id": "3bb38c15-3ee6-4be6-b0c6-0bbf217acc7d",
   "metadata": {},
   "outputs": [],
   "source": []
  }
 ],
 "metadata": {
  "kernelspec": {
   "display_name": "Python 3 (ipykernel)",
   "language": "python",
   "name": "python3"
  },
  "language_info": {
   "codemirror_mode": {
    "name": "ipython",
    "version": 3
   },
   "file_extension": ".py",
   "mimetype": "text/x-python",
   "name": "python",
   "nbconvert_exporter": "python",
   "pygments_lexer": "ipython3",
   "version": "3.10.13"
  }
 },
 "nbformat": 4,
 "nbformat_minor": 5
}
